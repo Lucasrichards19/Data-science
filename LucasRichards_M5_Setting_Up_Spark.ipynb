{
  "nbformat": 4,
  "nbformat_minor": 0,
  "metadata": {
    "colab": {
      "provenance": [],
      "collapsed_sections": [],
      "include_colab_link": true
    },
    "kernelspec": {
      "name": "python3",
      "display_name": "Python 3"
    }
  },
  "cells": [
    {
      "cell_type": "markdown",
      "metadata": {
        "id": "view-in-github",
        "colab_type": "text"
      },
      "source": [
        "<a href=\"https://colab.research.google.com/github/Lucasrichards19/Data-science/blob/main/LucasRichards_M5_Setting_Up_Spark.ipynb\" target=\"_parent\"><img src=\"https://colab.research.google.com/assets/colab-badge.svg\" alt=\"Open In Colab\"/></a>"
      ]
    },
    {
      "cell_type": "markdown",
      "metadata": {
        "id": "NEQzn1kcz3Fw"
      },
      "source": [
        "**Setting up Spark**:\n",
        "\n",
        "Before you can connect to a Spark cluster, Spark needs to be installed. The code below is boilerplate code that can be used to set-up Spark. Please note that this code will be leveraged in all the notebooks since each nodebook is a separate entity."
      ]
    },
    {
      "cell_type": "code",
      "metadata": {
        "id": "OrlJuP-N4wAz",
        "colab": {
          "base_uri": "https://localhost:8080/"
        },
        "outputId": "79139abd-62b8-4bbc-f5bf-fde65c3bfb68"
      },
      "source": [
        "# Update environment (if needed)\n",
        "# !sudo apt update\n",
        "\n",
        "# Download and install Java\n",
        "!sudo apt-get install openjdk-8-jdk-headless -qq > /dev/null\n",
        "\n",
        "# Install Apache Spark 3.2.1 with Hadoop 3.2\n",
        "!wget -nc -q https://archive.apache.org/dist/spark/spark-3.2.1/spark-3.2.1-bin-hadoop3.2.tgz\n",
        "\n",
        "# Unzip the folder\n",
        "!tar xf  spark-3.2.1-bin-hadoop3.2.tgz\n",
        "\n",
        "# Install findspark library that will locate Spark on the system\n",
        "!pip install -q findspark"
      ],
      "execution_count": 1,
      "outputs": [
        {
          "output_type": "stream",
          "name": "stdout",
          "text": [
            "debconf: unable to initialize frontend: Dialog\n",
            "debconf: (No usable dialog-like program is installed, so the dialog based frontend cannot be used. at /usr/share/perl5/Debconf/FrontEnd/Dialog.pm line 76, <> line 2.)\n",
            "debconf: falling back to frontend: Readline\n",
            "debconf: unable to initialize frontend: Readline\n",
            "debconf: (This frontend requires a controlling tty.)\n",
            "debconf: falling back to frontend: Teletype\n",
            "dpkg-preconfigure: unable to re-open stdin: \n"
          ]
        }
      ]
    },
    {
      "cell_type": "code",
      "metadata": {
        "id": "Ho4I2zTa5EB9"
      },
      "source": [
        "# Setting the environment variables\n",
        "\n",
        "import os\n",
        "os.environ[\"JAVA_HOME\"] = \"/usr/lib/jvm/java-8-openjdk-amd64\"\n",
        "os.environ[\"SPARK_HOME\"] = \"/content/spark-3.2.1-bin-hadoop3.2\""
      ],
      "execution_count": 2,
      "outputs": []
    },
    {
      "cell_type": "code",
      "metadata": {
        "id": "4JaQG0gZ5MAC"
      },
      "source": [
        "# Initialize Saprk\n",
        "\n",
        "import findspark\n",
        "findspark.init()"
      ],
      "execution_count": 3,
      "outputs": []
    },
    {
      "cell_type": "markdown",
      "metadata": {
        "id": "9aeSE08IVslB"
      },
      "source": [
        "**PySpark** provides a Python wrapper on top of Spark -  import SparkSession which provides a single point of entry to interact with underlying Spark functionality"
      ]
    },
    {
      "cell_type": "code",
      "metadata": {
        "id": "ZzMtH2bH51vs",
        "colab": {
          "base_uri": "https://localhost:8080/",
          "height": 35
        },
        "outputId": "7954e5b5-580f-43ae-aca1-62cc6cbf5b5b"
      },
      "source": [
        "# Import SparkSession from pyspark.sql\n",
        "from pyspark.sql import SparkSession\n",
        "\n",
        "# Create spark session\n",
        "spark = SparkSession.builder.getOrCreate()\n",
        "\n",
        "spark.version"
      ],
      "execution_count": 4,
      "outputs": [
        {
          "output_type": "execute_result",
          "data": {
            "text/plain": [
              "'3.2.1'"
            ],
            "application/vnd.google.colaboratory.intrinsic+json": {
              "type": "string"
            }
          },
          "metadata": {},
          "execution_count": 4
        }
      ]
    },
    {
      "cell_type": "code",
      "metadata": {
        "id": "toPEjJGTwDPv",
        "colab": {
          "base_uri": "https://localhost:8080/"
        },
        "outputId": "80803a46-feb7-48df-f695-5cf62a6144ee"
      },
      "source": [
        "from google.colab import drive\n",
        "drive.mount('/content/drive')"
      ],
      "execution_count": 5,
      "outputs": [
        {
          "output_type": "stream",
          "name": "stdout",
          "text": [
            "Mounted at /content/drive\n"
          ]
        }
      ]
    },
    {
      "cell_type": "markdown",
      "metadata": {
        "id": "Z0Het55UXTUA"
      },
      "source": [
        "List the contents of Google Drive"
      ]
    },
    {
      "cell_type": "code",
      "metadata": {
        "id": "ePyWJyCJXXm5",
        "colab": {
          "base_uri": "https://localhost:8080/"
        },
        "outputId": "0879e2ce-9dc9-4333-9e3c-ca5fa75d8a25"
      },
      "source": [
        "# After executing the cell above, Drive\n",
        "# files will be present in \"/content/My Drive\".\n",
        "!ls \"/content/drive/My Drive/\""
      ],
      "execution_count": 7,
      "outputs": [
        {
          "output_type": "stream",
          "name": "stdout",
          "text": [
            " casamiento.docx\t    Sustentate\n",
            "'Colab Notebooks'\t   'TESIS   Wake park'\n",
            "'Party Invite.gform'\t   'Untitled document.gdoc'\n",
            " RSVP.gform\t\t   'Untitled presentation.gslides'\n",
            "'sectors_perf (3).gsheet'\n"
          ]
        }
      ]
    },
    {
      "cell_type": "markdown",
      "metadata": {
        "id": "OszBaMGbYYBc"
      },
      "source": [
        "**Using DataFrames**\n",
        "\n",
        "Spark's main data structure is the Resilient Distributed Dataset (RDD) which is a low level object that allows Spark to process large quantities of data by spreading data across multiple nodes in the cluster. However, RDDs are hard to work with directly; therefore, park DataFrame will be utilized since it provides an abstraction built on top of RDDs.\n",
        "\n",
        "The Spark DataFrame behaves a lot like a SQL table (a table contains attributes in the columns and observations in the rows). Not only are DataFrames easier to work with, they are also more optimized for complicated operations than RDDs."
      ]
    },
    {
      "cell_type": "markdown",
      "metadata": {
        "id": "5NNb-NQpXqzm"
      },
      "source": [
        "Read the Airlines.csv file from your Google Drive into a Spark DataFrame"
      ]
    },
    {
      "cell_type": "code",
      "metadata": {
        "id": "4YmXqaK3Zr8h"
      },
      "source": [
        "df = spark.read.option(\"header\", \"true\").csv(\"/content/drive/My Drive/airline.csv\")"
      ],
      "execution_count": 10,
      "outputs": []
    },
    {
      "cell_type": "markdown",
      "metadata": {
        "id": "c14ky5FHZvr0"
      },
      "source": [
        "Display the contents of the DataFrame"
      ]
    },
    {
      "cell_type": "code",
      "metadata": {
        "id": "YexVtN6AZ3Z-",
        "colab": {
          "base_uri": "https://localhost:8080/"
        },
        "outputId": "8e99be23-9c74-402d-9a70-0d124a066588"
      },
      "source": [
        "df.limit(20).show()"
      ],
      "execution_count": 11,
      "outputs": [
        {
          "output_type": "stream",
          "name": "stdout",
          "text": [
            "+--------+----------+---------+--------+----+------+-------------+----+\n",
            "|ArrDelay|CRSDepTime|DayOfWeek|DepDelay|Dest|Origin|UniqueCarrier|Year|\n",
            "+--------+----------+---------+--------+----+------+-------------+----+\n",
            "|      91|      2045|        2|     108| BOS|   ORD|           UA|2005|\n",
            "|      81|      1905|        2|      95| PDX|   LAX|           UA|2005|\n",
            "|      -4|      1042|        5|      -3| ORD|   DAY|           UA|2005|\n",
            "|     -11|      1734|        5|      -1| DEN|   PIT|           UA|2005|\n",
            "|     -12|      1010|        5|       0| IAH|   ORD|           UA|2005|\n",
            "|       1|       712|        1|       0| DEN|   BUR|           UA|2005|\n",
            "|     144|      1955|        7|     115| SLC|   ORD|           UA|2005|\n",
            "|      10|      1930|        2|      22| MSP|   DEN|           UA|2005|\n",
            "|       0|       925|        5|      -4| DEN|   MCI|           UA|2005|\n",
            "|      97|      1711|        4|      89| SEA|   DEN|           UA|2005|\n",
            "|      -9|      1300|        3|      -5| PDX|   SFO|           UA|2005|\n",
            "|      69|      1720|        4|      63| IAD|   MSY|           UA|2005|\n",
            "|      -3|      1451|        7|      12| SEA|   DEN|           UA|2005|\n",
            "|       1|      1451|        3|      26| SEA|   DEN|           UA|2005|\n",
            "|     -14|      1303|        1|     -10| DEN|   EGE|           UA|2005|\n",
            "|       4|      1303|        6|      11| DEN|   EGE|           UA|2005|\n",
            "|      23|      1641|        4|      -4| DEN|   BOS|           UA|2005|\n",
            "|      -5|      1735|        3|      14| SFO|   DEN|           UA|2005|\n",
            "|     -11|      1735|        7|      11| SFO|   DEN|           UA|2005|\n",
            "|     -13|      1220|        4|      -4| MCI|   DEN|           UA|2005|\n",
            "+--------+----------+---------+--------+----+------+-------------+----+\n",
            "\n"
          ]
        }
      ]
    },
    {
      "cell_type": "markdown",
      "metadata": {
        "id": "ojAQiXdiaaQ3"
      },
      "source": [
        "Output the column names and the \"rows\" and \"column\" counts"
      ]
    },
    {
      "cell_type": "code",
      "metadata": {
        "id": "RsifFWBtDPCz",
        "colab": {
          "base_uri": "https://localhost:8080/"
        },
        "outputId": "b0ce8bd4-f633-4abf-88d1-f0997440cbfe"
      },
      "source": [
        "#outputing the column names\n",
        "df.columns #Column Names\n"
      ],
      "execution_count": 12,
      "outputs": [
        {
          "output_type": "execute_result",
          "data": {
            "text/plain": [
              "['ArrDelay',\n",
              " 'CRSDepTime',\n",
              " 'DayOfWeek',\n",
              " 'DepDelay',\n",
              " 'Dest',\n",
              " 'Origin',\n",
              " 'UniqueCarrier',\n",
              " 'Year']"
            ]
          },
          "metadata": {},
          "execution_count": 12
        }
      ]
    },
    {
      "cell_type": "code",
      "metadata": {
        "id": "6YEljqjuDi11",
        "colab": {
          "base_uri": "https://localhost:8080/"
        },
        "outputId": "e3ee7c7d-4848-4cda-ce56-bf3d12164425"
      },
      "source": [
        "#Outputing the row count\n",
        "df.count()  #Row Count"
      ],
      "execution_count": 13,
      "outputs": [
        {
          "output_type": "execute_result",
          "data": {
            "text/plain": [
              "1234729"
            ]
          },
          "metadata": {},
          "execution_count": 13
        }
      ]
    },
    {
      "cell_type": "code",
      "metadata": {
        "id": "alIbyncTDqVc",
        "colab": {
          "base_uri": "https://localhost:8080/"
        },
        "outputId": "65a8b014-87d4-4cde-f357-29d8ffdb4d7c"
      },
      "source": [
        "#Output the column count\n",
        "len(df.columns) #Column Count"
      ],
      "execution_count": 14,
      "outputs": [
        {
          "output_type": "execute_result",
          "data": {
            "text/plain": [
              "8"
            ]
          },
          "metadata": {},
          "execution_count": 14
        }
      ]
    },
    {
      "cell_type": "markdown",
      "metadata": {
        "id": "sD4bO_hWEEGH"
      },
      "source": [
        "In order to examine the summary of any particular column of a DataFrame, we use the describe method. \n",
        "\n",
        "The describe \"method\" gives us the statistical summary of the given column"
      ]
    },
    {
      "cell_type": "code",
      "metadata": {
        "id": "9p-Pv1sADt2h",
        "colab": {
          "base_uri": "https://localhost:8080/"
        },
        "outputId": "2debb48c-f4ab-4ae3-dd9a-c4aefd6b0384"
      },
      "source": [
        "#Examine the summary of the \"DepDelay\" column\n",
        "df.describe('DepDelay').show()"
      ],
      "execution_count": 15,
      "outputs": [
        {
          "output_type": "stream",
          "name": "stdout",
          "text": [
            "+-------+-----------------+\n",
            "|summary|         DepDelay|\n",
            "+-------+-----------------+\n",
            "|  count|          1234729|\n",
            "|   mean|8.197566746135685|\n",
            "| stddev|28.78716040501349|\n",
            "|    min|               -1|\n",
            "|    max|               NA|\n",
            "+-------+-----------------+\n",
            "\n"
          ]
        }
      ]
    },
    {
      "cell_type": "markdown",
      "metadata": {
        "id": "GW_FEJvaFnyC"
      },
      "source": [
        "In order to select particular columns from the DataFrame, use the select method"
      ]
    },
    {
      "cell_type": "code",
      "metadata": {
        "id": "b-XwxWKAH-Gp",
        "colab": {
          "base_uri": "https://localhost:8080/"
        },
        "outputId": "4e8c05d6-5b8d-41d1-e8f1-f987763be893"
      },
      "source": [
        "df.select('ArrDelay','DepDelay').show()"
      ],
      "execution_count": 16,
      "outputs": [
        {
          "output_type": "stream",
          "name": "stdout",
          "text": [
            "+--------+--------+\n",
            "|ArrDelay|DepDelay|\n",
            "+--------+--------+\n",
            "|      91|     108|\n",
            "|      81|      95|\n",
            "|      -4|      -3|\n",
            "|     -11|      -1|\n",
            "|     -12|       0|\n",
            "|       1|       0|\n",
            "|     144|     115|\n",
            "|      10|      22|\n",
            "|       0|      -4|\n",
            "|      97|      89|\n",
            "|      -9|      -5|\n",
            "|      69|      63|\n",
            "|      -3|      12|\n",
            "|       1|      26|\n",
            "|     -14|     -10|\n",
            "|       4|      11|\n",
            "|      23|      -4|\n",
            "|      -5|      14|\n",
            "|     -11|      11|\n",
            "|     -13|      -4|\n",
            "+--------+--------+\n",
            "only showing top 20 rows\n",
            "\n"
          ]
        }
      ]
    },
    {
      "cell_type": "markdown",
      "metadata": {
        "id": "mQ3rivxpIp6E"
      },
      "source": [
        "Selecting Distinct Multiple Columns"
      ]
    },
    {
      "cell_type": "code",
      "metadata": {
        "id": "uJkrAFEPIN3n",
        "colab": {
          "base_uri": "https://localhost:8080/"
        },
        "outputId": "62897fd3-ed4f-4ffb-b860-b973482f31e0"
      },
      "source": [
        "df.select('ArrDelay','DepDelay').distinct().show()"
      ],
      "execution_count": 17,
      "outputs": [
        {
          "output_type": "stream",
          "name": "stdout",
          "text": [
            "+--------+--------+\n",
            "|ArrDelay|DepDelay|\n",
            "+--------+--------+\n",
            "|     -20|      -6|\n",
            "|       5|      10|\n",
            "|     -23|      -5|\n",
            "|      37|      45|\n",
            "|     101|     100|\n",
            "|       6|      -9|\n",
            "|      26|       0|\n",
            "|     197|     211|\n",
            "|      50|      46|\n",
            "|      69|      77|\n",
            "|     116|      80|\n",
            "|       2|      22|\n",
            "|      74|      -6|\n",
            "|      71|      77|\n",
            "|      39|       4|\n",
            "|      85|      95|\n",
            "|     -11|      17|\n",
            "|      31|       3|\n",
            "|     110|      95|\n",
            "|      49|      17|\n",
            "+--------+--------+\n",
            "only showing top 20 rows\n",
            "\n"
          ]
        }
      ]
    },
    {
      "cell_type": "markdown",
      "metadata": {
        "id": "kjWSI8YeI8di"
      },
      "source": [
        "Filtering Data"
      ]
    },
    {
      "cell_type": "code",
      "metadata": {
        "id": "jXDqKhcrJRbt",
        "colab": {
          "base_uri": "https://localhost:8080/"
        },
        "outputId": "93a8b3d7-cfc6-4098-cb56-774fc04287ca"
      },
      "source": [
        "df.filter(df.Origin=='LGA').show()"
      ],
      "execution_count": 18,
      "outputs": [
        {
          "output_type": "stream",
          "name": "stdout",
          "text": [
            "+--------+----------+---------+--------+----+------+-------------+----+\n",
            "|ArrDelay|CRSDepTime|DayOfWeek|DepDelay|Dest|Origin|UniqueCarrier|Year|\n",
            "+--------+----------+---------+--------+----+------+-------------+----+\n",
            "|     -14|       800|        1|       3| ORD|   LGA|           UA|2005|\n",
            "|      -6|       700|        5|      -1| ORD|   LGA|           UA|2005|\n",
            "|      NA|      1400|        4|      NA| ORD|   LGA|           UA|2005|\n",
            "|      27|      1400|        3|      -3| ORD|   LGA|           UA|2005|\n",
            "|      -6|       900|        3|      -2| ORD|   LGA|           UA|2005|\n",
            "|       4|      1403|        1|      -7| DEN|   LGA|           UA|2005|\n",
            "|      12|       745|        5|       4| DEN|   LGA|           UA|2005|\n",
            "|     -16|      1530|        7|      -7| PIT|   LGA|           US|2005|\n",
            "|     -14|       715|        3|      -5| CLT|   LGA|           US|2005|\n",
            "|     -12|       700|        1|      -6| BOS|   LGA|           US|2005|\n",
            "|       1|       800|        2|      -2| BOS|   LGA|           US|2005|\n",
            "|      NA|      1300|        4|      NA| BOS|   LGA|           US|2005|\n",
            "|     -11|      2000|        1|      -6| BOS|   LGA|           US|2005|\n",
            "|       7|      1100|        6|       3| DCA|   LGA|           US|2005|\n",
            "|       3|      1300|        1|      15| DCA|   LGA|           US|2005|\n",
            "|     -12|      1300|        3|      -6| DCA|   LGA|           US|2005|\n",
            "|      -5|      1800|        2|      -7| DCA|   LGA|           US|2005|\n",
            "|      45|      2000|        7|      58| DCA|   LGA|           US|2005|\n",
            "|      19|       729|        3|      -7| DTW|   LGA|           NW|2005|\n",
            "|      -6|       605|        2|       1| DTW|   LGA|           NW|2005|\n",
            "+--------+----------+---------+--------+----+------+-------------+----+\n",
            "only showing top 20 rows\n",
            "\n"
          ]
        }
      ]
    },
    {
      "cell_type": "markdown",
      "metadata": {
        "id": "wwsIsCYcJ4V1"
      },
      "source": [
        "Filtering Data (Multiple Parameters)"
      ]
    },
    {
      "cell_type": "code",
      "metadata": {
        "id": "Zh1gwAK7J87C",
        "colab": {
          "base_uri": "https://localhost:8080/"
        },
        "outputId": "09d18938-733c-4e5d-a32a-0d9e839f9aef"
      },
      "source": [
        "df.filter((df.Dest=='GSO') & (df.Origin=='LGA')).show()"
      ],
      "execution_count": 19,
      "outputs": [
        {
          "output_type": "stream",
          "name": "stdout",
          "text": [
            "+--------+----------+---------+--------+----+------+-------------+----+\n",
            "|ArrDelay|CRSDepTime|DayOfWeek|DepDelay|Dest|Origin|UniqueCarrier|Year|\n",
            "+--------+----------+---------+--------+----+------+-------------+----+\n",
            "|      -2|      1000|        3|      -6| GSO|   LGA|           OH|2005|\n",
            "|       8|      1000|        3|       0| GSO|   LGA|           OH|2005|\n",
            "|     -19|      1815|        3|      -1| GSO|   LGA|           OH|2005|\n",
            "|      -4|      1000|        3|      -5| GSO|   LGA|           OH|2005|\n",
            "|      22|      1805|        6|      50| GSO|   LGA|           OH|2005|\n",
            "|      -7|      1627|        1|       3| GSO|   LGA|           OH|2005|\n",
            "|     -18|      1000|        2|       0| GSO|   LGA|           OH|2005|\n",
            "|       2|      1805|        3|       0| GSO|   LGA|           OH|2005|\n",
            "|      35|      1805|        2|      40| GSO|   LGA|           OH|2005|\n",
            "|      -8|      1000|        6|     -10| GSO|   LGA|           OH|2005|\n",
            "|      -7|      1627|        7|      -4| GSO|   LGA|           OH|2005|\n",
            "|     -30|      1815|        7|      -7| GSO|   LGA|           OH|2005|\n",
            "|     -28|       745|        1|     -10| GSO|   LGA|           OH|2005|\n",
            "|     -12|      1627|        7|       0| GSO|   LGA|           OH|2005|\n",
            "|      -6|      1627|        7|      -7| GSO|   LGA|           OH|2005|\n",
            "|      -3|       745|        3|       0| GSO|   LGA|           OH|2005|\n",
            "|     -16|      1815|        1|      -5| GSO|   LGA|           OH|2005|\n",
            "|      97|      1815|        2|      85| GSO|   LGA|           OH|2005|\n",
            "|       8|       935|        7|      11| GSO|   LGA|           US|2000|\n",
            "|     100|      1638|        5|     111| GSO|   LGA|           US|2000|\n",
            "+--------+----------+---------+--------+----+------+-------------+----+\n",
            "only showing top 20 rows\n",
            "\n"
          ]
        }
      ]
    },
    {
      "cell_type": "markdown",
      "metadata": {
        "id": "hlvw2wdZM-W1"
      },
      "source": [
        "**Performing SQL Queries** - SQL queries can be passes directly to any DataFrame; for that, we need to create a table from the DataFrame using the registerTempTable"
      ]
    },
    {
      "cell_type": "code",
      "metadata": {
        "id": "df2qDFY0NrwK",
        "colab": {
          "base_uri": "https://localhost:8080/"
        },
        "outputId": "d53a03bc-c7c7-48c3-9eef-f95f21f556b4"
      },
      "source": [
        "df.registerTempTable('airlines')"
      ],
      "execution_count": 20,
      "outputs": [
        {
          "output_type": "stream",
          "name": "stderr",
          "text": [
            "/content/spark-3.2.1-bin-hadoop3.2/python/pyspark/sql/dataframe.py:140: FutureWarning: Deprecated in 2.0, use createOrReplaceTempView instead.\n",
            "  FutureWarning\n"
          ]
        }
      ]
    },
    {
      "cell_type": "markdown",
      "metadata": {
        "id": "DAvSHA0JLLTy"
      },
      "source": [
        "Typically the entry point into all SQL functionality in Spark is the SQLContext class. To create a basic instance of this call, all we need is a SparkContext reference."
      ]
    },
    {
      "cell_type": "code",
      "metadata": {
        "id": "CadqTdSuOkvw",
        "colab": {
          "base_uri": "https://localhost:8080/"
        },
        "outputId": "800ab5ca-1072-4868-aeda-5ecadb37935b"
      },
      "source": [
        "spark.sql('select * from airlines').show()"
      ],
      "execution_count": 21,
      "outputs": [
        {
          "output_type": "stream",
          "name": "stdout",
          "text": [
            "+--------+----------+---------+--------+----+------+-------------+----+\n",
            "|ArrDelay|CRSDepTime|DayOfWeek|DepDelay|Dest|Origin|UniqueCarrier|Year|\n",
            "+--------+----------+---------+--------+----+------+-------------+----+\n",
            "|      91|      2045|        2|     108| BOS|   ORD|           UA|2005|\n",
            "|      81|      1905|        2|      95| PDX|   LAX|           UA|2005|\n",
            "|      -4|      1042|        5|      -3| ORD|   DAY|           UA|2005|\n",
            "|     -11|      1734|        5|      -1| DEN|   PIT|           UA|2005|\n",
            "|     -12|      1010|        5|       0| IAH|   ORD|           UA|2005|\n",
            "|       1|       712|        1|       0| DEN|   BUR|           UA|2005|\n",
            "|     144|      1955|        7|     115| SLC|   ORD|           UA|2005|\n",
            "|      10|      1930|        2|      22| MSP|   DEN|           UA|2005|\n",
            "|       0|       925|        5|      -4| DEN|   MCI|           UA|2005|\n",
            "|      97|      1711|        4|      89| SEA|   DEN|           UA|2005|\n",
            "|      -9|      1300|        3|      -5| PDX|   SFO|           UA|2005|\n",
            "|      69|      1720|        4|      63| IAD|   MSY|           UA|2005|\n",
            "|      -3|      1451|        7|      12| SEA|   DEN|           UA|2005|\n",
            "|       1|      1451|        3|      26| SEA|   DEN|           UA|2005|\n",
            "|     -14|      1303|        1|     -10| DEN|   EGE|           UA|2005|\n",
            "|       4|      1303|        6|      11| DEN|   EGE|           UA|2005|\n",
            "|      23|      1641|        4|      -4| DEN|   BOS|           UA|2005|\n",
            "|      -5|      1735|        3|      14| SFO|   DEN|           UA|2005|\n",
            "|     -11|      1735|        7|      11| SFO|   DEN|           UA|2005|\n",
            "|     -13|      1220|        4|      -4| MCI|   DEN|           UA|2005|\n",
            "+--------+----------+---------+--------+----+------+-------------+----+\n",
            "only showing top 20 rows\n",
            "\n"
          ]
        }
      ]
    },
    {
      "cell_type": "code",
      "metadata": {
        "id": "Rtt_0ybjOvIV",
        "colab": {
          "base_uri": "https://localhost:8080/"
        },
        "outputId": "7b3f2c56-ca29-447b-d862-e5181a023b2f"
      },
      "source": [
        "spark.sql('select distinct(Dest) from airlines').show(10)"
      ],
      "execution_count": 24,
      "outputs": [
        {
          "output_type": "stream",
          "name": "stdout",
          "text": [
            "+----+\n",
            "|Dest|\n",
            "+----+\n",
            "| BGM|\n",
            "| DLG|\n",
            "| PSE|\n",
            "| INL|\n",
            "| MSY|\n",
            "| GEG|\n",
            "| SNA|\n",
            "| BUR|\n",
            "| GRB|\n",
            "| GTF|\n",
            "+----+\n",
            "only showing top 10 rows\n",
            "\n"
          ]
        }
      ]
    },
    {
      "cell_type": "code",
      "metadata": {
        "colab": {
          "base_uri": "https://localhost:8080/",
          "height": 35
        },
        "id": "ZPkBC7R9-ptI",
        "outputId": "20213a0d-3d01-428b-ead0-34b206f09c83"
      },
      "source": [
        "import datetime\n",
        "import pytz\n",
        "\n",
        "datetime.datetime.now(pytz.timezone('US/Central')).strftime(\"%a, %d %B %Y %H:%M:%S\")"
      ],
      "execution_count": 25,
      "outputs": [
        {
          "output_type": "execute_result",
          "data": {
            "text/plain": [
              "'Thu, 03 November 2022 20:12:35'"
            ],
            "application/vnd.google.colaboratory.intrinsic+json": {
              "type": "string"
            }
          },
          "metadata": {},
          "execution_count": 25
        }
      ]
    }
  ]
}