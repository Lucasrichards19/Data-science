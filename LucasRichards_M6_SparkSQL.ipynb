{
  "nbformat": 4,
  "nbformat_minor": 0,
  "metadata": {
    "colab": {
      "provenance": [],
      "collapsed_sections": [],
      "include_colab_link": true
    },
    "kernelspec": {
      "name": "python3",
      "display_name": "Python 3"
    }
  },
  "cells": [
    {
      "cell_type": "markdown",
      "metadata": {
        "id": "view-in-github",
        "colab_type": "text"
      },
      "source": [
        "<a href=\"https://colab.research.google.com/github/Lucasrichards19/Data-science/blob/main/LucasRichards_M6_SparkSQL.ipynb\" target=\"_parent\"><img src=\"https://colab.research.google.com/assets/colab-badge.svg\" alt=\"Open In Colab\"/></a>"
      ]
    },
    {
      "cell_type": "markdown",
      "metadata": {
        "id": "11m984jvRxBU"
      },
      "source": [
        "###Setting up PySpark and creating a Spark Session"
      ]
    },
    {
      "cell_type": "code",
      "metadata": {
        "id": "dfkKZ_CYZNps",
        "colab": {
          "base_uri": "https://localhost:8080/"
        },
        "outputId": "1cb2b1c6-33d3-44c3-d59d-08bc59e11170"
      },
      "source": [
        "# Update environment (if needed)\n",
        "# !sudo apt update\n",
        "\n",
        "# Download and install Java\n",
        "#!sudo apt-get install openjdk-8-jdk-headless -qq > /dev/null\n",
        "\n",
        "## Install Apache Spark 3.2.1 with Hadoop 3.2\n",
        "#!wget -nc -q https://downloads.apache.org/spark/spark-3.2.1/spark-3.2.1-bin-hadoop3.2.tgz\n",
        "\n",
        "# Unzip the folder\n",
        "#!tar xf  spark-3.2.1-bin-hadoop3.2.tgz\n",
        "\n",
        "# Install findspark library that will locate Spark on the system\n",
        "#!pip install -q findspark"
      ],
      "execution_count": 1,
      "outputs": [
        {
          "output_type": "stream",
          "name": "stdout",
          "text": [
            "debconf: unable to initialize frontend: Dialog\n",
            "debconf: (No usable dialog-like program is installed, so the dialog based frontend cannot be used. at /usr/share/perl5/Debconf/FrontEnd/Dialog.pm line 76, <> line 2.)\n",
            "debconf: falling back to frontend: Readline\n",
            "debconf: unable to initialize frontend: Readline\n",
            "debconf: (This frontend requires a controlling tty.)\n",
            "debconf: falling back to frontend: Teletype\n",
            "dpkg-preconfigure: unable to re-open stdin: \n",
            "tar: spark-3.2.1-bin-hadoop3.2.tgz: Cannot open: No such file or directory\n",
            "tar: Error is not recoverable: exiting now\n"
          ]
        }
      ]
    },
    {
      "cell_type": "code",
      "source": [
        "# Update environment (if needed)\n",
        "# !sudo apt update\n",
        "\n",
        "# Download and install Java\n",
        "!sudo apt-get install openjdk-8-jdk-headless -qq > /dev/null\n",
        "\n",
        "# Install Apache Spark 3.2.1 with Hadoop 3.2\n",
        "!wget -nc -q https://archive.apache.org/dist/spark/spark-3.2.1/spark-3.2.1-bin-hadoop3.2.tgz\n",
        "\n",
        "# Unzip the folder\n",
        "!tar xf  spark-3.2.1-bin-hadoop3.2.tgz\n",
        "\n",
        "# Install findspark library that will locate Spark on the system\n",
        "!pip install -q findspark"
      ],
      "metadata": {
        "id": "H2JvwNYPHVgE"
      },
      "execution_count": 2,
      "outputs": []
    },
    {
      "cell_type": "code",
      "metadata": {
        "id": "ep9Jqb-eZWFy"
      },
      "source": [
        "# Setting the environment variables\n",
        "\n",
        "import os\n",
        "os.environ[\"JAVA_HOME\"] = \"/usr/lib/jvm/java-8-openjdk-amd64\"\n",
        "os.environ[\"SPARK_HOME\"] = \"/content/spark-3.2.1-bin-hadoop3.2\""
      ],
      "execution_count": 3,
      "outputs": []
    },
    {
      "cell_type": "code",
      "metadata": {
        "id": "xIHcyIJ6ZulY"
      },
      "source": [
        "import findspark\n",
        "findspark.init()"
      ],
      "execution_count": 4,
      "outputs": []
    },
    {
      "cell_type": "code",
      "metadata": {
        "id": "PSNMU92MZzy0",
        "colab": {
          "base_uri": "https://localhost:8080/"
        },
        "outputId": "cd4551f9-150d-488d-f37f-7de2efb3b7a1"
      },
      "source": [
        "# Load the Drive helper and mount\n",
        "from google.colab import drive\n",
        "\n",
        "# This will prompt for authorization.\n",
        "drive.mount('/content/drive')"
      ],
      "execution_count": 5,
      "outputs": [
        {
          "output_type": "stream",
          "name": "stdout",
          "text": [
            "Mounted at /content/drive\n"
          ]
        }
      ]
    },
    {
      "cell_type": "code",
      "metadata": {
        "id": "9iVKYS-iaBjm",
        "colab": {
          "base_uri": "https://localhost:8080/"
        },
        "outputId": "5d6f942a-130d-4d02-fb7f-7596f5191504"
      },
      "source": [
        "# After executing the cell above, Drive\n",
        "# files will be present in \"/content/My Drive\".\n",
        "!ls \"/content/drive/My Drive/UCI/Big Data Analysis/Datasets\""
      ],
      "execution_count": null,
      "outputs": [
        {
          "output_type": "stream",
          "name": "stdout",
          "text": [
            "acite75_99.zip\t   LungCapData.csv\n",
            "airline.csv\t   LungCapData.txt\n",
            "airlines_2007.csv  Municipal_Court_Caseload_Information.zip\n",
            "airlines_2008.csv  spark_data_loan_sub_new.csv\n",
            "books.csv\t   violation_type_desc.csv\n"
          ]
        }
      ]
    },
    {
      "cell_type": "code",
      "metadata": {
        "id": "LHAE16p2aNqo",
        "colab": {
          "base_uri": "https://localhost:8080/",
          "height": 35
        },
        "outputId": "5553401f-b740-4712-c99b-389baebf628a"
      },
      "source": [
        "# Import SparkSession from pyspark.sql\n",
        "from pyspark.sql import SparkSession\n",
        "\n",
        "# Create spark session\n",
        "spark = SparkSession.builder.getOrCreate()\n",
        "\n",
        "spark.version"
      ],
      "execution_count": null,
      "outputs": [
        {
          "output_type": "execute_result",
          "data": {
            "text/plain": [
              "'3.2.1'"
            ],
            "application/vnd.google.colaboratory.intrinsic+json": {
              "type": "string"
            }
          },
          "metadata": {},
          "execution_count": 6
        }
      ]
    },
    {
      "cell_type": "code",
      "metadata": {
        "id": "ss-D4YjJaiLa"
      },
      "source": [
        "df = spark.read.option(\"header\", \"true\").csv(\"/content/drive/My Drive/UCI/Big Data Analysis/Datasets/books.csv\")"
      ],
      "execution_count": null,
      "outputs": []
    },
    {
      "cell_type": "code",
      "metadata": {
        "id": "uLwA8Y-GalaU",
        "colab": {
          "base_uri": "https://localhost:8080/"
        },
        "outputId": "30cef20d-e45d-45cd-856c-c07aa47ca0d7"
      },
      "source": [
        "df.show()"
      ],
      "execution_count": null,
      "outputs": [
        {
          "output_type": "stream",
          "name": "stdout",
          "text": [
            "+------+--------------------+--------------------+--------------+----------+-------------+-------------+-----------+-------------+------------------+----------------+--------------------+\n",
            "|bookID|               title|             authors|average_rating|      isbn|       isbn13|language_code|  num_pages|ratings_count|text_reviews_count|publication_date|           publisher|\n",
            "+------+--------------------+--------------------+--------------+----------+-------------+-------------+-----------+-------------+------------------+----------------+--------------------+\n",
            "|     1|Harry Potter and ...|J.K. Rowling/Mary...|          4.57|0439785960|9780439785969|          eng|        652|      2095690|             27591|       9/16/2006|     Scholastic Inc.|\n",
            "|     2|Harry Potter and ...|J.K. Rowling/Mary...|          4.49|0439358078|9780439358071|          eng|        870|      2153167|             29221|        9/1/2004|     Scholastic Inc.|\n",
            "|     4|Harry Potter and ...|        J.K. Rowling|          4.42|0439554896|9780439554893|          eng|        352|         6333|               244|       11/1/2003|          Scholastic|\n",
            "|     5|Harry Potter and ...|J.K. Rowling/Mary...|          4.56|043965548X|9780439655484|          eng|        435|      2339585|             36325|        5/1/2004|     Scholastic Inc.|\n",
            "|     8|Harry Potter Boxe...|J.K. Rowling/Mary...|          4.78|0439682584|9780439682589|          eng|       2690|        41428|               164|       9/13/2004|          Scholastic|\n",
            "|     9|Unauthorized Harr...|W. Frederick Zimm...|          3.74|0976540606|9780976540601|        en-US|        152|           19|                 1|       4/26/2005|        Nimble Books|\n",
            "|    10|Harry Potter Coll...|        J.K. Rowling|          4.73|0439827604|9780439827607|          eng|       3342|        28242|               808|       9/12/2005|          Scholastic|\n",
            "|    12|The Ultimate Hitc...|       Douglas Adams|          4.38|0517226952|9780517226957|          eng|        815|         3628|               254|       11/1/2005|      Gramercy Books|\n",
            "|    13|The Ultimate Hitc...|       Douglas Adams|          4.38|0345453743|9780345453747|          eng|        815|       249558|              4080|       4/30/2002|       Del Rey Books|\n",
            "|    14|The Hitchhiker's ...|       Douglas Adams|          4.22|1400052920|9781400052929|          eng|        215|         4930|               460|        8/3/2004|               Crown|\n",
            "|    16|The Hitchhiker's ...|Douglas Adams/Ste...|          4.22|0739322206|9780739322208|          eng|          6|         1266|               253|       3/23/2005|  Random House Audio|\n",
            "|    18|The Ultimate Hitc...|       Douglas Adams|          4.38|0517149257|9780517149256|          eng|        815|         2877|               195|       1/17/1996|         Wings Books|\n",
            "|    21|A Short History o...|         Bill Bryson|          4.21|076790818X|9780767908184|          eng|        544|       248558|              9396|       9/14/2004|      Broadway Books|\n",
            "|    22|Bill Bryson's Afr...|         Bill Bryson|          3.44|0767915062|9780767915069|          eng|         55|         7270|               499|       12/3/2002|      Broadway Books|\n",
            "|    23|Bryson's Dictiona...|         Bill Bryson|          3.87|0767910435|9780767910439|          eng|        256|         2088|               131|       9/14/2004|      Broadway Books|\n",
            "|    24|In a Sunburned Co...|         Bill Bryson|          4.07|0767903862|9780767903868|          eng|        335|        72451|              4245|       5/15/2001|      Broadway Books|\n",
            "|    25|I'm a Stranger He...|         Bill Bryson|          3.90|076790382X|9780767903820|          eng|        304|        49240|              2211|       6/28/2000|      Broadway Books|\n",
            "|    26|The Lost Continen...|         Bill Bryson|          3.83|0060920084|9780060920081|          eng|        299|        45712|              2257|       8/28/1990|William Morrow Pa...|\n",
            "|    27|Neither Here nor ...|         Bill Bryson|          3.86|0380713802|9780380713806|          eng|        254|        48701|              2238|       3/28/1993|William Morrow Pa...|\n",
            "|    28|Notes from a Smal...|         Bill Bryson|          3.91|0380727501|9780380727506|          eng|        324|        80609|              3301|       5/28/1997|William Morrow Pa...|\n",
            "+------+--------------------+--------------------+--------------+----------+-------------+-------------+-----------+-------------+------------------+----------------+--------------------+\n",
            "only showing top 20 rows\n",
            "\n"
          ]
        }
      ]
    },
    {
      "cell_type": "code",
      "metadata": {
        "colab": {
          "base_uri": "https://localhost:8080/"
        },
        "id": "GYDqEORcrWeD",
        "outputId": "c10d2343-d5c5-475e-8152-c3e5b4fc1c5c"
      },
      "source": [
        "#Display the data types of the columns\n",
        "\n",
        "df.dtypes"
      ],
      "execution_count": null,
      "outputs": [
        {
          "output_type": "execute_result",
          "data": {
            "text/plain": [
              "[('bookID', 'string'),\n",
              " ('title', 'string'),\n",
              " ('authors', 'string'),\n",
              " ('average_rating', 'string'),\n",
              " ('isbn', 'string'),\n",
              " ('isbn13', 'string'),\n",
              " ('language_code', 'string'),\n",
              " ('  num_pages', 'string'),\n",
              " ('ratings_count', 'string'),\n",
              " ('text_reviews_count', 'string'),\n",
              " ('publication_date', 'string'),\n",
              " ('publisher', 'string')]"
            ]
          },
          "metadata": {},
          "execution_count": 9
        }
      ]
    },
    {
      "cell_type": "markdown",
      "metadata": {
        "id": "iczafy1_v8Oc"
      },
      "source": [
        "# Using SQL to interface with Spark"
      ]
    },
    {
      "cell_type": "markdown",
      "metadata": {
        "id": "RbzMv5O4ax7V"
      },
      "source": [
        "**Step 1**: Register the DataFrame as a SQL temporary view so that you can interact with it using SQL commands\n"
      ]
    },
    {
      "cell_type": "code",
      "metadata": {
        "id": "FLkw3KCva_9W"
      },
      "source": [
        "df.createOrReplaceTempView(\"books\")"
      ],
      "execution_count": null,
      "outputs": []
    },
    {
      "cell_type": "markdown",
      "metadata": {
        "id": "dYz7APKsbaIg"
      },
      "source": [
        "**Step 2**: Query the temporary view using SQL"
      ]
    },
    {
      "cell_type": "code",
      "metadata": {
        "id": "25lD-IVrb5AU",
        "colab": {
          "base_uri": "https://localhost:8080/"
        },
        "outputId": "c0148cd6-8466-4e39-b51c-bc25b6a81f26"
      },
      "source": [
        "sqlDF = spark.sql(\"SELECT * FROM books\")\n",
        "sqlDF.show()"
      ],
      "execution_count": null,
      "outputs": [
        {
          "output_type": "stream",
          "name": "stdout",
          "text": [
            "+------+--------------------+--------------------+--------------+----------+-------------+-------------+-----------+-------------+------------------+----------------+--------------------+\n",
            "|bookID|               title|             authors|average_rating|      isbn|       isbn13|language_code|  num_pages|ratings_count|text_reviews_count|publication_date|           publisher|\n",
            "+------+--------------------+--------------------+--------------+----------+-------------+-------------+-----------+-------------+------------------+----------------+--------------------+\n",
            "|     1|Harry Potter and ...|J.K. Rowling/Mary...|          4.57|0439785960|9780439785969|          eng|        652|      2095690|             27591|       9/16/2006|     Scholastic Inc.|\n",
            "|     2|Harry Potter and ...|J.K. Rowling/Mary...|          4.49|0439358078|9780439358071|          eng|        870|      2153167|             29221|        9/1/2004|     Scholastic Inc.|\n",
            "|     4|Harry Potter and ...|        J.K. Rowling|          4.42|0439554896|9780439554893|          eng|        352|         6333|               244|       11/1/2003|          Scholastic|\n",
            "|     5|Harry Potter and ...|J.K. Rowling/Mary...|          4.56|043965548X|9780439655484|          eng|        435|      2339585|             36325|        5/1/2004|     Scholastic Inc.|\n",
            "|     8|Harry Potter Boxe...|J.K. Rowling/Mary...|          4.78|0439682584|9780439682589|          eng|       2690|        41428|               164|       9/13/2004|          Scholastic|\n",
            "|     9|Unauthorized Harr...|W. Frederick Zimm...|          3.74|0976540606|9780976540601|        en-US|        152|           19|                 1|       4/26/2005|        Nimble Books|\n",
            "|    10|Harry Potter Coll...|        J.K. Rowling|          4.73|0439827604|9780439827607|          eng|       3342|        28242|               808|       9/12/2005|          Scholastic|\n",
            "|    12|The Ultimate Hitc...|       Douglas Adams|          4.38|0517226952|9780517226957|          eng|        815|         3628|               254|       11/1/2005|      Gramercy Books|\n",
            "|    13|The Ultimate Hitc...|       Douglas Adams|          4.38|0345453743|9780345453747|          eng|        815|       249558|              4080|       4/30/2002|       Del Rey Books|\n",
            "|    14|The Hitchhiker's ...|       Douglas Adams|          4.22|1400052920|9781400052929|          eng|        215|         4930|               460|        8/3/2004|               Crown|\n",
            "|    16|The Hitchhiker's ...|Douglas Adams/Ste...|          4.22|0739322206|9780739322208|          eng|          6|         1266|               253|       3/23/2005|  Random House Audio|\n",
            "|    18|The Ultimate Hitc...|       Douglas Adams|          4.38|0517149257|9780517149256|          eng|        815|         2877|               195|       1/17/1996|         Wings Books|\n",
            "|    21|A Short History o...|         Bill Bryson|          4.21|076790818X|9780767908184|          eng|        544|       248558|              9396|       9/14/2004|      Broadway Books|\n",
            "|    22|Bill Bryson's Afr...|         Bill Bryson|          3.44|0767915062|9780767915069|          eng|         55|         7270|               499|       12/3/2002|      Broadway Books|\n",
            "|    23|Bryson's Dictiona...|         Bill Bryson|          3.87|0767910435|9780767910439|          eng|        256|         2088|               131|       9/14/2004|      Broadway Books|\n",
            "|    24|In a Sunburned Co...|         Bill Bryson|          4.07|0767903862|9780767903868|          eng|        335|        72451|              4245|       5/15/2001|      Broadway Books|\n",
            "|    25|I'm a Stranger He...|         Bill Bryson|          3.90|076790382X|9780767903820|          eng|        304|        49240|              2211|       6/28/2000|      Broadway Books|\n",
            "|    26|The Lost Continen...|         Bill Bryson|          3.83|0060920084|9780060920081|          eng|        299|        45712|              2257|       8/28/1990|William Morrow Pa...|\n",
            "|    27|Neither Here nor ...|         Bill Bryson|          3.86|0380713802|9780380713806|          eng|        254|        48701|              2238|       3/28/1993|William Morrow Pa...|\n",
            "|    28|Notes from a Smal...|         Bill Bryson|          3.91|0380727501|9780380727506|          eng|        324|        80609|              3301|       5/28/1997|William Morrow Pa...|\n",
            "+------+--------------------+--------------------+--------------+----------+-------------+-------------+-----------+-------------+------------------+----------------+--------------------+\n",
            "only showing top 20 rows\n",
            "\n"
          ]
        }
      ]
    },
    {
      "cell_type": "markdown",
      "metadata": {
        "id": "kAsFxcBQc_E9"
      },
      "source": [
        "**Step 3**: Filter the data so that only records where the average rating is greater than 4.5"
      ]
    },
    {
      "cell_type": "code",
      "metadata": {
        "id": "6zIenJkgibCr",
        "colab": {
          "base_uri": "https://localhost:8080/"
        },
        "outputId": "22226399-f1ca-444f-cd39-18086fbd8f56"
      },
      "source": [
        "sqlDF.filter(\"average_rating > 4.5\").show()"
      ],
      "execution_count": null,
      "outputs": [
        {
          "output_type": "stream",
          "name": "stdout",
          "text": [
            "+------+--------------------+--------------------+--------------+----------+-------------+-------------+-----------+-------------+------------------+----------------+--------------------+\n",
            "|bookID|               title|             authors|average_rating|      isbn|       isbn13|language_code|  num_pages|ratings_count|text_reviews_count|publication_date|           publisher|\n",
            "+------+--------------------+--------------------+--------------+----------+-------------+-------------+-----------+-------------+------------------+----------------+--------------------+\n",
            "|     1|Harry Potter and ...|J.K. Rowling/Mary...|          4.57|0439785960|9780439785969|          eng|        652|      2095690|             27591|       9/16/2006|     Scholastic Inc.|\n",
            "|     5|Harry Potter and ...|J.K. Rowling/Mary...|          4.56|043965548X|9780439655484|          eng|        435|      2339585|             36325|        5/1/2004|     Scholastic Inc.|\n",
            "|     8|Harry Potter Boxe...|J.K. Rowling/Mary...|          4.78|0439682584|9780439682589|          eng|       2690|        41428|               164|       9/13/2004|          Scholastic|\n",
            "|    10|Harry Potter Coll...|        J.K. Rowling|          4.73|0439827604|9780439827607|          eng|       3342|        28242|               808|       9/12/2005|          Scholastic|\n",
            "|    30|J.R.R. Tolkien 4-...|      J.R.R. Tolkien|          4.59|0345538374|9780345538376|          eng|       1728|       101233|              1550|       9/25/2012|    Ballantine Books|\n",
            "|    36|The Lord of the R...|Chris   Smith/Chr...|          4.53|0618391002|9780618391004|          eng|        218|        19822|                46|       11/5/2003|Houghton Mifflin ...|\n",
            "|   119|The Lord of the R...|        Gary Russell|          4.59|0618212906|9780618212903|          eng|        192|        26153|               102|       6/12/2002|Houghton Mifflin ...|\n",
            "|   313|100 Years of Lync...|      Ralph Ginzburg|          4.61|0933121180|9780933121188|          eng|        270|           88|                 4|      11/22/1996| Black Classic Press|\n",
            "|   397|The Gettysburg Ad...|Abraham Lincoln/M...|          4.53|0395883970|9780395883976|          eng|         32|         5239|                76|        2/2/1998|HMH Books for You...|\n",
            "|   866|Fullmetal Alchemi...|Hiromu Arakawa/Ak...|          4.57|142150460X|9781421504605|          eng|        192|         9013|               153|       9/19/2006|       VIZ Media LLC|\n",
            "|   868|Fullmetal Alchemi...|Hiromu Arakawa/Ak...|          4.56|1591169259|9781591169253|          eng|        192|        16666|               299|       9/13/2005|       VIZ Media LLC|\n",
            "|   869|Fullmetal Alchemi...|Hiromu Arakawa/Ak...|          4.57|1421504596|9781421504599|          eng|        192|        11451|               161|       7/18/2006|       VIZ Media LLC|\n",
            "|   871|Fullmetal Alchemi...|Hiromu Arakawa/Ak...|          4.55|1591169291|9781591169291|          eng|        200|        10752|               294|       11/8/2005|       VIZ Media LLC|\n",
            "|   873|Fullmetal Alchemi...|Hiromu Arakawa/Ak...|          4.52|1591169232|9781591169239|          eng|        192|        14923|               419|        7/5/2005|       VIZ Media LLC|\n",
            "|   955|The 5 Love Langua...|        Gary Chapman|          4.70|0802415318|9780802415318|          eng|          0|           22|                 4|        1/1/2005|    Moody Publishers|\n",
            "|  1111|The Power Broker:...|      Robert A. Caro|          4.51|0394720245|9780394720241|          eng|       1344|        11208|              1237|       7/12/1975|             Vintage|\n",
            "|  1729|Metamorphoses: Vo...|Ovid/Frank Justus...|          4.52|0674990471|9780674990470|          eng|        499|           61|                 4|        1/1/1985|Harvard Universit...|\n",
            "|  1750|Dionysiac Poetics...|       Charles Segal|          4.62|069101597X|9780691015972|          eng|        440|           12|                 0|      11/16/1997|Princeton Univers...|\n",
            "|  2005|Harry Potter and ...|        J.K. Rowling|          4.57|0747584664|9780747584667|          eng|        768|         1213|                78|       6/23/2006|Bloomsbury Publis...|\n",
            "|  2034|Comoediae 1: Acha...|Aristophanes/F.W....|          5.00|0198145047|9780198145042|          grc|        364|            0|                 0|       2/22/1922|Oxford University...|\n",
            "+------+--------------------+--------------------+--------------+----------+-------------+-------------+-----------+-------------+------------------+----------------+--------------------+\n",
            "only showing top 20 rows\n",
            "\n"
          ]
        }
      ]
    },
    {
      "cell_type": "markdown",
      "metadata": {
        "id": "UYqUxx70mxGV"
      },
      "source": [
        "**Step 4**: Filter the dataset to include books that have an average rating of greater than 4.5 and the publisher is 'Ballantine Books'"
      ]
    },
    {
      "cell_type": "code",
      "metadata": {
        "id": "5NCtb0XCnEgm",
        "colab": {
          "base_uri": "https://localhost:8080/"
        },
        "outputId": "540a914e-bdcd-4733-d299-23bf4d352069"
      },
      "source": [
        "sqlDF.filter(\"average_rating > 4.5\").filter(\"publisher == 'Ballantine Books'\").show()"
      ],
      "execution_count": null,
      "outputs": [
        {
          "output_type": "stream",
          "name": "stdout",
          "text": [
            "+------+--------------------+--------------+--------------+----------+-------------+-------------+-----------+-------------+------------------+----------------+----------------+\n",
            "|bookID|               title|       authors|average_rating|      isbn|       isbn13|language_code|  num_pages|ratings_count|text_reviews_count|publication_date|       publisher|\n",
            "+------+--------------------+--------------+--------------+----------+-------------+-------------+-----------+-------------+------------------+----------------+----------------+\n",
            "|    30|J.R.R. Tolkien 4-...|J.R.R. Tolkien|          4.59|0345538374|9780345538376|          eng|       1728|       101233|              1550|       9/25/2012|Ballantine Books|\n",
            "+------+--------------------+--------------+--------------+----------+-------------+-------------+-----------+-------------+------------------+----------------+----------------+\n",
            "\n"
          ]
        }
      ]
    },
    {
      "cell_type": "markdown",
      "metadata": {
        "id": "hluwF-Eju6sE"
      },
      "source": [
        "**Step 5**: Add a new column that depicts for each book what proportion of the overall ratings count are text review counts"
      ]
    },
    {
      "cell_type": "code",
      "metadata": {
        "id": "WPH7K4xsvRWn",
        "colab": {
          "base_uri": "https://localhost:8080/"
        },
        "outputId": "21caeb5a-049f-434f-f42f-8630b1ac01b9"
      },
      "source": [
        "import pyspark.sql.functions as F\n",
        "\n",
        "sqlDF = sqlDF.withColumn(\"proportion_of_ratings\", F.bround((sqlDF.text_reviews_count/sqlDF.ratings_count),2))\n",
        "sqlDF = sqlDF.withColumn(\"avg_rating_decimal\", sqlDF.average_rating.cast('Decimal(4,2)'))\n",
        "sqlDF.show()"
      ],
      "execution_count": null,
      "outputs": [
        {
          "output_type": "stream",
          "name": "stdout",
          "text": [
            "+------+--------------------+--------------------+--------------+----------+-------------+-------------+-----------+-------------+------------------+----------------+--------------------+---------------------+------------------+\n",
            "|bookID|               title|             authors|average_rating|      isbn|       isbn13|language_code|  num_pages|ratings_count|text_reviews_count|publication_date|           publisher|proportion_of_ratings|avg_rating_decimal|\n",
            "+------+--------------------+--------------------+--------------+----------+-------------+-------------+-----------+-------------+------------------+----------------+--------------------+---------------------+------------------+\n",
            "|     1|Harry Potter and ...|J.K. Rowling/Mary...|          4.57|0439785960|9780439785969|          eng|        652|      2095690|             27591|       9/16/2006|     Scholastic Inc.|                 0.01|              4.57|\n",
            "|     2|Harry Potter and ...|J.K. Rowling/Mary...|          4.49|0439358078|9780439358071|          eng|        870|      2153167|             29221|        9/1/2004|     Scholastic Inc.|                 0.01|              4.49|\n",
            "|     4|Harry Potter and ...|        J.K. Rowling|          4.42|0439554896|9780439554893|          eng|        352|         6333|               244|       11/1/2003|          Scholastic|                 0.04|              4.42|\n",
            "|     5|Harry Potter and ...|J.K. Rowling/Mary...|          4.56|043965548X|9780439655484|          eng|        435|      2339585|             36325|        5/1/2004|     Scholastic Inc.|                 0.02|              4.56|\n",
            "|     8|Harry Potter Boxe...|J.K. Rowling/Mary...|          4.78|0439682584|9780439682589|          eng|       2690|        41428|               164|       9/13/2004|          Scholastic|                  0.0|              4.78|\n",
            "|     9|Unauthorized Harr...|W. Frederick Zimm...|          3.74|0976540606|9780976540601|        en-US|        152|           19|                 1|       4/26/2005|        Nimble Books|                 0.05|              3.74|\n",
            "|    10|Harry Potter Coll...|        J.K. Rowling|          4.73|0439827604|9780439827607|          eng|       3342|        28242|               808|       9/12/2005|          Scholastic|                 0.03|              4.73|\n",
            "|    12|The Ultimate Hitc...|       Douglas Adams|          4.38|0517226952|9780517226957|          eng|        815|         3628|               254|       11/1/2005|      Gramercy Books|                 0.07|              4.38|\n",
            "|    13|The Ultimate Hitc...|       Douglas Adams|          4.38|0345453743|9780345453747|          eng|        815|       249558|              4080|       4/30/2002|       Del Rey Books|                 0.02|              4.38|\n",
            "|    14|The Hitchhiker's ...|       Douglas Adams|          4.22|1400052920|9781400052929|          eng|        215|         4930|               460|        8/3/2004|               Crown|                 0.09|              4.22|\n",
            "|    16|The Hitchhiker's ...|Douglas Adams/Ste...|          4.22|0739322206|9780739322208|          eng|          6|         1266|               253|       3/23/2005|  Random House Audio|                  0.2|              4.22|\n",
            "|    18|The Ultimate Hitc...|       Douglas Adams|          4.38|0517149257|9780517149256|          eng|        815|         2877|               195|       1/17/1996|         Wings Books|                 0.07|              4.38|\n",
            "|    21|A Short History o...|         Bill Bryson|          4.21|076790818X|9780767908184|          eng|        544|       248558|              9396|       9/14/2004|      Broadway Books|                 0.04|              4.21|\n",
            "|    22|Bill Bryson's Afr...|         Bill Bryson|          3.44|0767915062|9780767915069|          eng|         55|         7270|               499|       12/3/2002|      Broadway Books|                 0.07|              3.44|\n",
            "|    23|Bryson's Dictiona...|         Bill Bryson|          3.87|0767910435|9780767910439|          eng|        256|         2088|               131|       9/14/2004|      Broadway Books|                 0.06|              3.87|\n",
            "|    24|In a Sunburned Co...|         Bill Bryson|          4.07|0767903862|9780767903868|          eng|        335|        72451|              4245|       5/15/2001|      Broadway Books|                 0.06|              4.07|\n",
            "|    25|I'm a Stranger He...|         Bill Bryson|          3.90|076790382X|9780767903820|          eng|        304|        49240|              2211|       6/28/2000|      Broadway Books|                 0.04|              3.90|\n",
            "|    26|The Lost Continen...|         Bill Bryson|          3.83|0060920084|9780060920081|          eng|        299|        45712|              2257|       8/28/1990|William Morrow Pa...|                 0.05|              3.83|\n",
            "|    27|Neither Here nor ...|         Bill Bryson|          3.86|0380713802|9780380713806|          eng|        254|        48701|              2238|       3/28/1993|William Morrow Pa...|                 0.05|              3.86|\n",
            "|    28|Notes from a Smal...|         Bill Bryson|          3.91|0380727501|9780380727506|          eng|        324|        80609|              3301|       5/28/1997|William Morrow Pa...|                 0.04|              3.91|\n",
            "+------+--------------------+--------------------+--------------+----------+-------------+-------------+-----------+-------------+------------------+----------------+--------------------+---------------------+------------------+\n",
            "only showing top 20 rows\n",
            "\n"
          ]
        }
      ]
    },
    {
      "cell_type": "markdown",
      "metadata": {
        "id": "6Zoddbq5xKCi"
      },
      "source": [
        "# Aggregating data using GroupBy"
      ]
    },
    {
      "cell_type": "markdown",
      "metadata": {
        "id": "qMsYsMQ7xfnl"
      },
      "source": [
        "**Step 6**: Find the lowest average_rating where the publisher if 'Broadway Books'"
      ]
    },
    {
      "cell_type": "code",
      "metadata": {
        "id": "erLiRLX3xsRN",
        "colab": {
          "base_uri": "https://localhost:8080/"
        },
        "outputId": "3540c06f-42c0-48c5-c5d7-58d6221982dc"
      },
      "source": [
        "sqlDF.filter(\"publisher == 'Broadway Books'\").groupBy().min(\"avg_rating_decimal\").show()\n"
      ],
      "execution_count": null,
      "outputs": [
        {
          "output_type": "stream",
          "name": "stdout",
          "text": [
            "+-----------------------+\n",
            "|min(avg_rating_decimal)|\n",
            "+-----------------------+\n",
            "|                   3.25|\n",
            "+-----------------------+\n",
            "\n"
          ]
        }
      ]
    },
    {
      "cell_type": "markdown",
      "metadata": {
        "id": "EqSVIjNbyfaf"
      },
      "source": [
        "**Step 7**: Find the highest average_rating where the publisher if 'Broadway Books'\n"
      ]
    },
    {
      "cell_type": "code",
      "metadata": {
        "id": "DuOKT5VCys1-",
        "colab": {
          "base_uri": "https://localhost:8080/"
        },
        "outputId": "a36ba81e-5f72-46ec-beb1-f177400428d8"
      },
      "source": [
        "sqlDF.filter(\"publisher == 'Broadway Books'\").groupBy().max(\"avg_rating_decimal\").show()"
      ],
      "execution_count": null,
      "outputs": [
        {
          "output_type": "stream",
          "name": "stdout",
          "text": [
            "+-----------------------+\n",
            "|max(avg_rating_decimal)|\n",
            "+-----------------------+\n",
            "|                   4.43|\n",
            "+-----------------------+\n",
            "\n"
          ]
        }
      ]
    },
    {
      "cell_type": "markdown",
      "metadata": {
        "id": "O-HFgYsNyx_t"
      },
      "source": [
        "**Step 8**: Ascertain the cumulative count of ratings received for Broadway Books"
      ]
    },
    {
      "cell_type": "code",
      "metadata": {
        "id": "6n7FMMe_y7b_",
        "colab": {
          "base_uri": "https://localhost:8080/"
        },
        "outputId": "41a2b575-6895-427a-98d9-9cc05d40e858"
      },
      "source": [
        "#First convert from string type to integer\n",
        "sqlDF = sqlDF.withColumn(\"total_rating_count\", sqlDF.ratings_count.cast('Integer'))\n",
        "sqlDF.filter(\"publisher == 'Broadway Books'\").groupBy().sum(\"total_rating_count\").show()"
      ],
      "execution_count": null,
      "outputs": [
        {
          "output_type": "stream",
          "name": "stdout",
          "text": [
            "+-----------------------+\n",
            "|sum(total_rating_count)|\n",
            "+-----------------------+\n",
            "|                 695164|\n",
            "+-----------------------+\n",
            "\n"
          ]
        }
      ]
    },
    {
      "cell_type": "markdown",
      "metadata": {
        "id": "YILnIJDH0isO"
      },
      "source": [
        "**Step 9:** Ascertain the average  count of ratings received for Broadway Books"
      ]
    },
    {
      "cell_type": "code",
      "metadata": {
        "id": "2iZY9tGs0zfx",
        "colab": {
          "base_uri": "https://localhost:8080/"
        },
        "outputId": "73ef4f96-174b-4f48-bb67-10e36b432e16"
      },
      "source": [
        "sqlDF.filter(\"publisher == 'Broadway Books'\").groupBy().avg(\"total_rating_count\").show()"
      ],
      "execution_count": null,
      "outputs": [
        {
          "output_type": "stream",
          "name": "stdout",
          "text": [
            "+-----------------------+\n",
            "|avg(total_rating_count)|\n",
            "+-----------------------+\n",
            "|     14187.020408163266|\n",
            "+-----------------------+\n",
            "\n"
          ]
        }
      ]
    },
    {
      "cell_type": "markdown",
      "metadata": {
        "id": "u4ZTPTP21gIO"
      },
      "source": [
        "**Step 10**: Show average count of ratings for each publisher"
      ]
    },
    {
      "cell_type": "code",
      "metadata": {
        "id": "bL67c_-Y1ont",
        "colab": {
          "base_uri": "https://localhost:8080/"
        },
        "outputId": "d9a13510-5f49-4390-dfa4-23be7cd4e353"
      },
      "source": [
        "sqlDF.groupBy(\"publisher\").avg(\"total_rating_count\").show()\n"
      ],
      "execution_count": null,
      "outputs": [
        {
          "output_type": "stream",
          "name": "stdout",
          "text": [
            "+--------------------+-----------------------+\n",
            "|           publisher|avg(total_rating_count)|\n",
            "+--------------------+-----------------------+\n",
            "|       The New Press|                 1693.0|\n",
            "|        Chosen Books|                  536.5|\n",
            "|       Digireads.com|     24628.166666666668|\n",
            "|               Ember|               351258.4|\n",
            "|           IVP Books|                   10.5|\n",
            "|       No Exit Press|                43253.8|\n",
            "|Dabel Brothers Pr...|                  276.0|\n",
            "|                 DAW|     5079.1463414634145|\n",
            "|      Celestial Arts|                  442.0|\n",
            "|Arcadia Publishin...|                    5.0|\n",
            "|Hachette Littérature|                    1.0|\n",
            "|         Cleis Press|                  428.5|\n",
            "|Chicago Review Press|      6315.857142857143|\n",
            "|                 HQN|                 7769.0|\n",
            "|World Wrestling E...|                 1154.0|\n",
            "|Wayne State Unive...|                   45.0|\n",
            "|           Doubleday|      8012.916666666667|\n",
            "|               Verso|     1204.8666666666666|\n",
            "|   Time Life Medical|                   60.2|\n",
            "|                 Roc|                16373.5|\n",
            "+--------------------+-----------------------+\n",
            "only showing top 20 rows\n",
            "\n"
          ]
        }
      ]
    },
    {
      "cell_type": "markdown",
      "metadata": {
        "id": "ehabJ7kl3iTi"
      },
      "source": [
        "We will utilize **.agg()** method - this method lets you pass an aggregate column expression that uses any of the aggregate functions from the pyspark.sql.functions submodule."
      ]
    },
    {
      "cell_type": "markdown",
      "metadata": {
        "id": "ZPFIWLYp5olg"
      },
      "source": [
        "The *pyspark.sql.functions* submodule includes a number of useful functions for performing a variety of computations like standard deviations. Note that all the aggregation functions in this submodule take the name of a column in a GroupedData table as demonstrated via the example below"
      ]
    },
    {
      "cell_type": "markdown",
      "metadata": {
        "id": "8ru0ujRC6i_0"
      },
      "source": [
        "**Step 11**: Compute the standard deviation of ratings count by publisher"
      ]
    },
    {
      "cell_type": "code",
      "metadata": {
        "id": "_yUTAK74n2P6",
        "colab": {
          "base_uri": "https://localhost:8080/"
        },
        "outputId": "6f657ec5-b441-4c10-ef86-7d01b88b3a75"
      },
      "source": [
        "# Import pyspark.sql.functions as F\n",
        "import pyspark.sql.functions as F\n",
        "\n",
        "\n",
        "# Standard deviation of ratings count by publisher\n",
        "sqlDF.groupBy(\"publisher\").agg(F.stddev(\"ratings_count\")).show()"
      ],
      "execution_count": null,
      "outputs": [
        {
          "output_type": "stream",
          "name": "stdout",
          "text": [
            "+--------------------+--------------------------+\n",
            "|           publisher|stddev_samp(ratings_count)|\n",
            "+--------------------+--------------------------+\n",
            "|       The New Press|        4021.5151825694215|\n",
            "|        Chosen Books|        457.49808742769625|\n",
            "|       Digireads.com|        51201.525162505335|\n",
            "|               Ember|         691000.7816122931|\n",
            "|           IVP Books|        14.849242404917497|\n",
            "|       No Exit Press|         17332.11097068098|\n",
            "|Dabel Brothers Pr...|                      null|\n",
            "|                 DAW|         6372.894532945668|\n",
            "|      Celestial Arts|         612.3544725075502|\n",
            "|Arcadia Publishin...|        2.9439202887759492|\n",
            "|Hachette Littérature|                      null|\n",
            "|         Cleis Press|        488.69792987761537|\n",
            "|Chicago Review Press|         9251.830511283904|\n",
            "|                 HQN|         7846.056844045931|\n",
            "|World Wrestling E...|                      null|\n",
            "|Wayne State Unive...|         46.66904755831214|\n",
            "|           Doubleday|        24104.695025350382|\n",
            "|               Verso|         1821.766994143977|\n",
            "|   Time Life Medical|         40.95200442794793|\n",
            "|                 Roc|        31089.472770422744|\n",
            "+--------------------+--------------------------+\n",
            "only showing top 20 rows\n",
            "\n"
          ]
        }
      ]
    },
    {
      "cell_type": "markdown",
      "metadata": {
        "id": "2P534ZLc1_Wb"
      },
      "source": [
        "# Joining datasets using Spark SQL"
      ]
    },
    {
      "cell_type": "code",
      "metadata": {
        "colab": {
          "base_uri": "https://localhost:8080/"
        },
        "id": "nYFbYMAe2ncT",
        "outputId": "dfe99e13-7602-47c9-e719-9452b1b37630"
      },
      "source": [
        "# Create the tables that will be joined\n",
        "\n",
        "valuesA = [('Dog',1),('Monkey',2),('Elephant',3),('Penguin',4)]\n",
        "TableA = spark.createDataFrame(valuesA,['name','id'])\n",
        " \n",
        "valuesB = [('Lizard',1),('Dog',2),('Elephant',3),('Rat',4)]\n",
        "TableB = spark.createDataFrame(valuesB,['name','id'])\n",
        " \n",
        "TableA.show()\n",
        "TableB.show()"
      ],
      "execution_count": null,
      "outputs": [
        {
          "output_type": "stream",
          "name": "stdout",
          "text": [
            "+--------+---+\n",
            "|    name| id|\n",
            "+--------+---+\n",
            "|     Dog|  1|\n",
            "|  Monkey|  2|\n",
            "|Elephant|  3|\n",
            "| Penguin|  4|\n",
            "+--------+---+\n",
            "\n",
            "+--------+---+\n",
            "|    name| id|\n",
            "+--------+---+\n",
            "|  Lizard|  1|\n",
            "|     Dog|  2|\n",
            "|Elephant|  3|\n",
            "|     Rat|  4|\n",
            "+--------+---+\n",
            "\n"
          ]
        }
      ]
    },
    {
      "cell_type": "code",
      "metadata": {
        "id": "v3xgitfD3p-_"
      },
      "source": [
        "# Create table aliases\n",
        "\n",
        "T1 = TableA.alias('T1')\n",
        "T2 = TableB.alias('T2')"
      ],
      "execution_count": null,
      "outputs": []
    },
    {
      "cell_type": "code",
      "metadata": {
        "colab": {
          "base_uri": "https://localhost:8080/"
        },
        "id": "2q2djTlj35Yz",
        "outputId": "e6d3caa8-6027-43dd-c591-a555c7fe8e83"
      },
      "source": [
        "# Inner Join on name - returns matching records from the 2 tables respectively\n",
        "\n",
        "T1.join(T2, T1.name == T2.name, 'inner').show()\n"
      ],
      "execution_count": null,
      "outputs": [
        {
          "output_type": "stream",
          "name": "stdout",
          "text": [
            "+--------+---+--------+---+\n",
            "|    name| id|    name| id|\n",
            "+--------+---+--------+---+\n",
            "|     Dog|  1|     Dog|  2|\n",
            "|Elephant|  3|Elephant|  3|\n",
            "+--------+---+--------+---+\n",
            "\n"
          ]
        }
      ]
    },
    {
      "cell_type": "code",
      "metadata": {
        "colab": {
          "base_uri": "https://localhost:8080/"
        },
        "id": "ayUtEkNs4cku",
        "outputId": "2765bc5e-1228-484d-e20b-ca0071d83725"
      },
      "source": [
        "# Left Join Example - If you want to select all records from table 1 and return data from table 2 when it matches, you choose ‘left’ \n",
        "\n",
        "T1.join(T2, T1.name == T2.name, 'left').show()"
      ],
      "execution_count": null,
      "outputs": [
        {
          "output_type": "stream",
          "name": "stdout",
          "text": [
            "+--------+---+--------+----+\n",
            "|    name| id|    name|  id|\n",
            "+--------+---+--------+----+\n",
            "|     Dog|  1|     Dog|   2|\n",
            "|Elephant|  3|Elephant|   3|\n",
            "|  Monkey|  2|    null|null|\n",
            "| Penguin|  4|    null|null|\n",
            "+--------+---+--------+----+\n",
            "\n"
          ]
        }
      ]
    },
    {
      "cell_type": "code",
      "metadata": {
        "colab": {
          "base_uri": "https://localhost:8080/"
        },
        "id": "RtDKoWQF5KPk",
        "outputId": "a63795bd-bcd6-4ea6-e17d-bc94242c99fd"
      },
      "source": [
        "# Left Join - filtering out nulls\n",
        "\n",
        "left_join = T1.join(T2, T1.name == T2.name, 'left')\n",
        "left_join.filter((T2.name).isNotNull()).show()"
      ],
      "execution_count": null,
      "outputs": [
        {
          "output_type": "stream",
          "name": "stdout",
          "text": [
            "+--------+---+--------+---+\n",
            "|    name| id|    name| id|\n",
            "+--------+---+--------+---+\n",
            "|     Dog|  1|     Dog|  2|\n",
            "|Elephant|  3|Elephant|  3|\n",
            "+--------+---+--------+---+\n",
            "\n"
          ]
        }
      ]
    },
    {
      "cell_type": "code",
      "metadata": {
        "colab": {
          "base_uri": "https://localhost:8080/"
        },
        "id": "r8rR5L_B6LsY",
        "outputId": "92585738-5a53-45ad-cbe1-b33e990ce3ba"
      },
      "source": [
        "# Right Join Example - If you want to select all records from table 2 and return data from table 1 when it matches, you choose ‘right’ \n",
        "\n",
        "T1.join(T2, T1.name == T2.name, 'right').show()"
      ],
      "execution_count": null,
      "outputs": [
        {
          "output_type": "stream",
          "name": "stdout",
          "text": [
            "+--------+----+--------+---+\n",
            "|    name|  id|    name| id|\n",
            "+--------+----+--------+---+\n",
            "|     Dog|   1|     Dog|  2|\n",
            "|Elephant|   3|Elephant|  3|\n",
            "|    null|null|  Lizard|  1|\n",
            "|    null|null|     Rat|  4|\n",
            "+--------+----+--------+---+\n",
            "\n"
          ]
        }
      ]
    },
    {
      "cell_type": "code",
      "metadata": {
        "colab": {
          "base_uri": "https://localhost:8080/"
        },
        "id": "EgcMInny6ULS",
        "outputId": "b9e00521-55df-4de9-bf3a-38d7b98e669b"
      },
      "source": [
        "# Full Outer Join - This shows all records from the left table and all the records from the right table and nulls where the two do not match\n",
        "\n",
        "T1.join(T2, T1.name == T2.name,how='full').show()"
      ],
      "execution_count": null,
      "outputs": [
        {
          "output_type": "stream",
          "name": "stdout",
          "text": [
            "+--------+----+--------+----+\n",
            "|    name|  id|    name|  id|\n",
            "+--------+----+--------+----+\n",
            "|     Dog|   1|     Dog|   2|\n",
            "|Elephant|   3|Elephant|   3|\n",
            "|    null|null|  Lizard|   1|\n",
            "|  Monkey|   2|    null|null|\n",
            "| Penguin|   4|    null|null|\n",
            "|    null|null|     Rat|   4|\n",
            "+--------+----+--------+----+\n",
            "\n"
          ]
        }
      ]
    },
    {
      "cell_type": "code",
      "metadata": {
        "id": "tHY9Y7ub-rdq"
      },
      "source": [],
      "execution_count": null,
      "outputs": []
    },
    {
      "cell_type": "code",
      "metadata": {
        "id": "BFkSBOQz-sGb"
      },
      "source": [],
      "execution_count": null,
      "outputs": []
    },
    {
      "cell_type": "code",
      "metadata": {
        "id": "vF2NmIhS-sRJ"
      },
      "source": [],
      "execution_count": null,
      "outputs": []
    },
    {
      "cell_type": "code",
      "metadata": {
        "colab": {
          "base_uri": "https://localhost:8080/",
          "height": 35
        },
        "id": "Zrczk0Rc-sa5",
        "outputId": "49bbe308-300e-4cb3-8dc7-adb830b222d5"
      },
      "source": [
        "import datetime\n",
        "import pytz\n",
        "\n",
        "datetime.datetime.now(pytz.timezone('US/Central')).strftime(\"%a, %d %B %Y %H:%M:%S\")"
      ],
      "execution_count": null,
      "outputs": [
        {
          "output_type": "execute_result",
          "data": {
            "text/plain": [
              "'Wed, 27 April 2022 15:33:57'"
            ],
            "application/vnd.google.colaboratory.intrinsic+json": {
              "type": "string"
            }
          },
          "metadata": {},
          "execution_count": 28
        }
      ]
    }
  ]
}